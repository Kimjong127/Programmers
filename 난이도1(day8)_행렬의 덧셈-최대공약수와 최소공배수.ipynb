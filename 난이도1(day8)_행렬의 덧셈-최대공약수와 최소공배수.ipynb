{
 "cells": [
  {
   "cell_type": "markdown",
   "id": "17ae4960-23e3-4384-8989-44a0a031195a",
   "metadata": {},
   "source": [
    "### 행렬의 덧셈 (12950)\n",
    "문제 : 행렬의 덧셈은 행과 열의 크기가 같은 두 행렬의 같은 행, 같은 열의 값을 서로 더한 결과가 됩니다. 2개의 행렬 arr1과 arr2를 입력받아, 행렬 덧셈의 결과를 반환하는 함수, solution을 완성해주세요."
   ]
  },
  {
   "cell_type": "code",
   "execution_count": 36,
   "id": "c5ed9046-241a-4193-97a7-dd30a87549bb",
   "metadata": {},
   "outputs": [
    {
     "data": {
      "text/plain": [
       "[[4, 6], [7, 9]]"
      ]
     },
     "execution_count": 36,
     "metadata": {},
     "output_type": "execute_result"
    }
   ],
   "source": [
    "solution = lambda arr1, arr2 : [[arr1[i][j] + arr2[i][j] for j in range(len(arr1[0]))] for i in range(len(arr1))]    # lambda를 사용하여 for문 내 for문을 사용하여 arr1과 arr2의 각 위치의 값을 더한 값을 새로운 2차원 배열에 추가\n",
    "solution([[1,2],[2,3]], [[3,4],[5,6]])                                                                               # 반환되는 2차원 배열의 크기는 len(arr1) x len(arr1[0])"
   ]
  },
  {
   "cell_type": "markdown",
   "id": "13d82c10-5caa-4fd3-b6eb-58f8a1d8d1bc",
   "metadata": {},
   "source": [
    "### 직사각형 별찍기 (12969)\n",
    "문제 : 이 문제에는 표준 입력으로 두 개의 정수 n과 m이 주어집니다.\n",
    "별(*) 문자를 이용해 가로의 길이가 n, 세로의 길이가 m인 직사각형 형태를 출력해보세요."
   ]
  },
  {
   "cell_type": "code",
   "execution_count": 51,
   "id": "4ce9016b-b483-498c-8a0f-f7e24f0ea882",
   "metadata": {},
   "outputs": [
    {
     "name": "stdin",
     "output_type": "stream",
     "text": [
      " 5 3\n"
     ]
    },
    {
     "name": "stdout",
     "output_type": "stream",
     "text": [
      "*****\n",
      "*****\n",
      "*****\n"
     ]
    }
   ],
   "source": [
    "n, m = map(int, input().strip().split(' '))      # strip()을 통해 공백과 개행문자를 제거하고 split으로 공백으로 구분되는 input값을 n, m 변수에 대입하고 \n",
    "for _ in range(m):                               # for문으로 m번만큼 '*' x n을 출력함\n",
    "    print('*' * n)"
   ]
  },
  {
   "cell_type": "markdown",
   "id": "21ba82ac-b23d-4c38-b6f4-7dec4f719a6e",
   "metadata": {},
   "source": [
    "### 최대공약수와 최소공배수 (12940)\n",
    "문제 : 두 수를 입력받아 두 수의 최대공약수와 최소공배수를 반환하는 함수, solution을 완성해 보세요. 배열의 맨 앞에 최대공약수, 그다음 최소공배수를 넣어 반환하면 됩니다. 예를 들어 두 수 3, 12의 최대공약수는 3, 최소공배수는 12이므로 solution(3, 12)는 [3, 12]를 반환해야 합니다."
   ]
  },
  {
   "cell_type": "code",
   "execution_count": 55,
   "id": "7ad69903-380a-4cd2-961d-8f16042f7295",
   "metadata": {},
   "outputs": [
    {
     "data": {
      "text/plain": [
       "[3, 12]"
      ]
     },
     "execution_count": 55,
     "metadata": {},
     "output_type": "execute_result"
    }
   ],
   "source": [
    "import math\n",
    "\n",
    "def solution(n, m):\n",
    "    return [math.gcd(n, m), abs(n*m)//math.gcd(n, m)]     # math라이브러리에서 최대공약수를 구할 수 있는 gcd메서드, n과 m을 곱한 절대값을 최대 공약수로 나눈 몫 : 최소공배수\n",
    "\n",
    "solution(3, 12)"
   ]
  },
  {
   "cell_type": "code",
   "execution_count": null,
   "id": "171fb575-ab23-4482-a792-0e5f3218211c",
   "metadata": {},
   "outputs": [],
   "source": []
  }
 ],
 "metadata": {
  "kernelspec": {
   "display_name": "Python 3 (ipykernel)",
   "language": "python",
   "name": "python3"
  },
  "language_info": {
   "codemirror_mode": {
    "name": "ipython",
    "version": 3
   },
   "file_extension": ".py",
   "mimetype": "text/x-python",
   "name": "python",
   "nbconvert_exporter": "python",
   "pygments_lexer": "ipython3",
   "version": "3.10.7"
  }
 },
 "nbformat": 4,
 "nbformat_minor": 5
}
