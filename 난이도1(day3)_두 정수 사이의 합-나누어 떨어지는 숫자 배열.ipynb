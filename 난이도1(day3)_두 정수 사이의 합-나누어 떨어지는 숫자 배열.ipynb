{
 "cells": [
  {
   "cell_type": "markdown",
   "id": "c132dbb1-c0c4-4ffb-a2e8-e0c51ff9625f",
   "metadata": {},
   "source": [
    "### 두 정수 사이의 합 (12912)\n",
    "문제 : 두 정수 a, b가 주어졌을 때 a와 b 사이에 속한 모든 정수의 합을 리턴하는 함수, solution을 완성하세요.\n",
    "예를 들어 a = 3, b = 5인 경우, 3 + 4 + 5 = 12이므로 12를 리턴합니다."
   ]
  },
  {
   "cell_type": "code",
   "execution_count": 1,
   "id": "f895e166-5415-43bd-9003-69284e779f8d",
   "metadata": {},
   "outputs": [
    {
     "data": {
      "text/plain": [
       "12"
      ]
     },
     "execution_count": 1,
     "metadata": {},
     "output_type": "execute_result"
    }
   ],
   "source": [
    "def solution(a, b):\n",
    "    if a<b:\n",
    "        return sum([i for i in range(a, b+1)])\n",
    "    else:\n",
    "        return sum([i for i in range(b, a+1)])\n",
    "\n",
    "solution(3, 5)"
   ]
  },
  {
   "cell_type": "code",
   "execution_count": null,
   "id": "2f3e2960-6346-48cb-ba85-bd9a7db874ca",
   "metadata": {},
   "outputs": [],
   "source": []
  },
  {
   "cell_type": "markdown",
   "id": "bcdf46f3-17ad-4c25-bcf0-7f57d7c2c0cc",
   "metadata": {},
   "source": [
    "### 콜라츠 추측 (12943)\n",
    "문제 : 1937년 Collatz란 사람에 의해 제기된 이 추측은, 주어진 수가 1이 될 때까지 다음 작업을 반복하면, 모든 수를 1로 만들 수 있다는 추측입니다. 작업은 다음과 같습니다.\n",
    "- 1-1. 입력된 수가 짝수라면 2로 나눕니다. \n",
    "- 1-2. 입력된 수가 홀수라면 3을 곱하고 1을 더합니다. \n",
    "- 2. 결과로 나온 수에 같은 작업을 1이 될 때까지 반복합니다. \n",
    "\n",
    "예를 들어, 주어진 수가 6이라면 6 → 3 → 10 → 5 → 16 → 8 → 4 → 2 → 1 이 되어 총 8번 만에 1이 됩니다. 위 작업을 몇 번이나 반복해야 하는지 반환하는 함수, solution을 완성해 주세요. 단, 주어진 수가 1인 경우에는 0을, 작업을 500번 반복할 때까지 1이 되지 않는다면 –1을 반환해 주세요."
   ]
  },
  {
   "cell_type": "code",
   "execution_count": 4,
   "id": "48734eb4-ad66-4b6f-b125-169132059777",
   "metadata": {},
   "outputs": [
    {
     "data": {
      "text/plain": [
       "-1"
      ]
     },
     "execution_count": 4,
     "metadata": {},
     "output_type": "execute_result"
    }
   ],
   "source": [
    "def solution(num):\n",
    "    cnt = 0\n",
    "    while num != 1:       # while문으로 num이 1이 아닌 동안을 조건으로 걸어줌\n",
    "        if cnt >= 500:    # cnt가 500을 넘어가도 1이 되지 못한 경우\n",
    "            return -1\n",
    "        elif num%2==0:    # 짝수인 경우,\n",
    "            num //= 2\n",
    "            cnt += 1\n",
    "        else:             # 홀수인 경우\n",
    "            num *= 3\n",
    "            num += 1\n",
    "            cnt += 1\n",
    "    return cnt\n",
    "\n",
    "solution(626331)"
   ]
  },
  {
   "cell_type": "code",
   "execution_count": null,
   "id": "c432008d-05a9-4f0f-9248-977f57f07da3",
   "metadata": {},
   "outputs": [],
   "source": []
  },
  {
   "cell_type": "markdown",
   "id": "4fa303ec-892b-48ee-900e-cacfb7aa45ec",
   "metadata": {},
   "source": [
    "### 서울에서 김서방 찾기 (12919)\n",
    "문제 : String형 배열 seoul의 element중 \"Kim\"의 위치 x를 찾아, \"김서방은 x에 있다\"는 String을 반환하는 함수, solution을 완성하세요. seoul에 \"Kim\"은 오직 한 번만 나타나며 잘못된 값이 입력되는 경우는 없습니다."
   ]
  },
  {
   "cell_type": "code",
   "execution_count": 11,
   "id": "facd419b-55cd-421b-a750-3b1daf795cf4",
   "metadata": {},
   "outputs": [
    {
     "data": {
      "text/plain": [
       "'김서방은 1에 있다.'"
      ]
     },
     "execution_count": 11,
     "metadata": {},
     "output_type": "execute_result"
    }
   ],
   "source": [
    "def solution(seoul):\n",
    "    x = seoul.index('Kim')\n",
    "    return f'김서방은 {x}에 있다'\n",
    "\n",
    "solution([\"Jane\", \"Kim\"])"
   ]
  },
  {
   "cell_type": "code",
   "execution_count": null,
   "id": "0ef5e0a1-7dae-4353-b6d6-8d3c5679d762",
   "metadata": {},
   "outputs": [],
   "source": []
  },
  {
   "cell_type": "markdown",
   "id": "a2a70a6e-307a-41bc-9f39-eca2003c8afb",
   "metadata": {},
   "source": [
    "### 나누어 떨어지는 숫자 배열 (12910)\n",
    "문제 : array의 각 element 중 divisor로 나누어 떨어지는 값을 오름차순으로 정렬한 배열을 반환하는 함수, solution을 작성해주세요.\n",
    "divisor로 나누어 떨어지는 element가 하나도 없다면 배열에 -1을 담아 반환하세요."
   ]
  },
  {
   "cell_type": "code",
   "execution_count": 10,
   "id": "c37c9057-df09-4d28-b49f-e91d3231f596",
   "metadata": {},
   "outputs": [
    {
     "data": {
      "text/plain": [
       "[1, 2, 3, 36]"
      ]
     },
     "execution_count": 10,
     "metadata": {},
     "output_type": "execute_result"
    }
   ],
   "source": [
    "def solution(arr, divisor):\n",
    "    result = []                 # 나누어지는 수를 넣을 리스트\n",
    "    remain = []                 # 나누어지지 않은 수를 넣을 리스트\n",
    "    for i in sorted(arr):       # 정렬된 arr를 for문을 돌림\n",
    "        if i%divisor==0:        # arr의 원소가 divisor로 나누어 떨어지면 \n",
    "            result.append(i)    # result에 append하고\n",
    "        else:                    \n",
    "            remain.append(i)    # 나누어 떨어지지 않으면 remain에 append\n",
    "        if len(remain) == len(arr):  # remain의 길이가 arr의 길이와 같다면, 나누어 떨어지는 수가 1개도 없다는 뜻이므로\n",
    "            return [-1]              # -1을 담은 list를 반환\n",
    "    return result\n",
    "\n",
    "    \n",
    "solution([2, 36, 1, 3], 1)"
   ]
  }
 ],
 "metadata": {
  "kernelspec": {
   "display_name": "Python 3 (ipykernel)",
   "language": "python",
   "name": "python3"
  },
  "language_info": {
   "codemirror_mode": {
    "name": "ipython",
    "version": 3
   },
   "file_extension": ".py",
   "mimetype": "text/x-python",
   "name": "python",
   "nbconvert_exporter": "python",
   "pygments_lexer": "ipython3",
   "version": "3.10.7"
  }
 },
 "nbformat": 4,
 "nbformat_minor": 5
}
