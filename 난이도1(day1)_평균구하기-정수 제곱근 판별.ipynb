{
 "cells": [
  {
   "cell_type": "markdown",
   "id": "45daaf7e-a479-405a-a7fc-c3dbbc7c3558",
   "metadata": {},
   "source": [
    "### 평균 구하기 (12944)\n",
    "문제 : 정수를 담고 있는 배열 arr의 평균값을 return하는 함수, solution을 완성해보세요."
   ]
  },
  {
   "cell_type": "code",
   "execution_count": 1,
   "id": "8685645c-2a19-4ee4-a7c4-ff9b4cc855f9",
   "metadata": {},
   "outputs": [
    {
     "data": {
      "text/plain": [
       "2.5"
      ]
     },
     "execution_count": 1,
     "metadata": {},
     "output_type": "execute_result"
    }
   ],
   "source": [
    "def solution(arr):\n",
    "    sums = 0\n",
    "    for i in arr:\n",
    "        sums += i\n",
    "    return sums / len(arr)\n",
    "\n",
    "solution([1, 2, 3, 4])"
   ]
  },
  {
   "cell_type": "code",
   "execution_count": 3,
   "id": "9dfb09aa-592a-4393-9522-d4c4dff9e233",
   "metadata": {},
   "outputs": [
    {
     "data": {
      "text/plain": [
       "2.5"
      ]
     },
     "execution_count": 3,
     "metadata": {},
     "output_type": "execute_result"
    }
   ],
   "source": [
    "def solution(arr):\n",
    "    return sum([i for i in arr]) / len(arr)\n",
    "\n",
    "solution([1, 2, 3, 4])"
   ]
  },
  {
   "cell_type": "code",
   "execution_count": null,
   "id": "de3e1c5a-1a33-48d5-9577-7cf35c7a4d5a",
   "metadata": {},
   "outputs": [],
   "source": []
  },
  {
   "cell_type": "markdown",
   "id": "5eb039ee-30f8-4c0c-a3b1-16800513ff72",
   "metadata": {},
   "source": [
    "### 짝수와 홀수 (12937)\n",
    "문제 : 정수 num이 짝수일 경우 \"Even\"을 반환하고 홀수인 경우 \"Odd\"를 반환하는 함수, solution을 완성해주세요."
   ]
  },
  {
   "cell_type": "code",
   "execution_count": 4,
   "id": "a4a828ba-122f-4272-b911-1580cea25fb3",
   "metadata": {},
   "outputs": [
    {
     "data": {
      "text/plain": [
       "'Odd'"
      ]
     },
     "execution_count": 4,
     "metadata": {},
     "output_type": "execute_result"
    }
   ],
   "source": [
    "def solution(num):\n",
    "    return 'Even' if num%2 == 0 else 'Odd'\n",
    "\n",
    "solution(3)"
   ]
  },
  {
   "cell_type": "code",
   "execution_count": null,
   "id": "d9ef0b86-8677-49a4-8b6a-ca7f160b5b43",
   "metadata": {},
   "outputs": [],
   "source": []
  },
  {
   "cell_type": "markdown",
   "id": "36032c8b-2b73-478f-8bb3-da80773f37a5",
   "metadata": {},
   "source": [
    "### 약수의 합 (12928)\n",
    "문제 : 정수 n을 입력받아 n의 약수를 모두 더한 값을 리턴하는 함수, solution을 완성해주세요."
   ]
  },
  {
   "cell_type": "code",
   "execution_count": 6,
   "id": "a3d3da15-0cd1-4309-8414-6a8ccb1b64b6",
   "metadata": {},
   "outputs": [
    {
     "data": {
      "text/plain": [
       "28"
      ]
     },
     "execution_count": 6,
     "metadata": {},
     "output_type": "execute_result"
    }
   ],
   "source": [
    "def solution(n):\n",
    "    result = []\n",
    "    for i in range(1, n+1):\n",
    "        if n%i == 0:\n",
    "            result.append(i)\n",
    "    return sum(result)\n",
    "\n",
    "solution(12)"
   ]
  },
  {
   "cell_type": "code",
   "execution_count": 8,
   "id": "cc8530fb-5423-4dba-b8be-5374efc7a3a5",
   "metadata": {},
   "outputs": [
    {
     "data": {
      "text/plain": [
       "6"
      ]
     },
     "execution_count": 8,
     "metadata": {},
     "output_type": "execute_result"
    }
   ],
   "source": [
    "def solution(n):\n",
    "    return sum([i for i in range(1, n+1) if n%i == 0])\n",
    "\n",
    "solution(5)"
   ]
  },
  {
   "cell_type": "code",
   "execution_count": null,
   "id": "8b79caee-5342-4ed5-90e5-003377a330b0",
   "metadata": {},
   "outputs": [],
   "source": []
  },
  {
   "cell_type": "markdown",
   "id": "3591813b-be3d-4d22-8924-05fb7fd0c3ad",
   "metadata": {},
   "source": [
    "### 자릿수 더하기 (12931)\n",
    "문제 : 자연수 N이 주어지면, N의 각 자릿수의 합을 구해서 return 하는 solution 함수를 만들어 주세요.\n",
    "예를들어 N = 123이면 1 + 2 + 3 = 6을 return 하면 됩니다."
   ]
  },
  {
   "cell_type": "code",
   "execution_count": 9,
   "id": "e7dc15a5-8a82-4052-b655-2bdb8b022835",
   "metadata": {},
   "outputs": [
    {
     "data": {
      "text/plain": [
       "6"
      ]
     },
     "execution_count": 9,
     "metadata": {},
     "output_type": "execute_result"
    }
   ],
   "source": [
    "def solution(n):\n",
    "    n = str(n)\n",
    "    result = []\n",
    "    sums = 0\n",
    "    for s in n:\n",
    "        result.append(int(s))\n",
    "    return sum(result)\n",
    "\n",
    "solution(123)"
   ]
  },
  {
   "cell_type": "code",
   "execution_count": 11,
   "id": "77a7a7a3-3d77-450a-87a9-14c76e97730a",
   "metadata": {
    "tags": []
   },
   "outputs": [
    {
     "data": {
      "text/plain": [
       "6"
      ]
     },
     "execution_count": 11,
     "metadata": {},
     "output_type": "execute_result"
    }
   ],
   "source": [
    "def solution(n):\n",
    "    return sum([int(i) for i in str(n)])\n",
    "\n",
    "solution(123)"
   ]
  },
  {
   "cell_type": "code",
   "execution_count": null,
   "id": "5502dcde-d5bf-4a66-ae90-93ebb4e34be4",
   "metadata": {},
   "outputs": [],
   "source": []
  },
  {
   "cell_type": "markdown",
   "id": "714982fa-b2bb-4757-90f2-d7bc04ff3135",
   "metadata": {},
   "source": [
    "### 자연수 뒤집어 배열로 만들기 (12932)\n",
    "문제 : 자연수 n을 뒤집어 각 자리 숫자를 원소로 가지는 배열 형태로 리턴해주세요. 예를들어 n이 12345이면 [5,4,3,2,1]을 리턴합니다."
   ]
  },
  {
   "cell_type": "code",
   "execution_count": 5,
   "id": "f8df77dd-f340-4f1b-a408-c915b33bb071",
   "metadata": {},
   "outputs": [
    {
     "data": {
      "text/plain": [
       "[5, 4, 3, 2, 1]"
      ]
     },
     "execution_count": 5,
     "metadata": {},
     "output_type": "execute_result"
    }
   ],
   "source": [
    "def solution(n):\n",
    "    return [int(i) for i in str(n)[::-1]]\n",
    "\n",
    "solution(12345)"
   ]
  },
  {
   "cell_type": "code",
   "execution_count": null,
   "id": "f25d7ab6-665a-48ee-9ddc-ca469aab84dd",
   "metadata": {},
   "outputs": [],
   "source": []
  },
  {
   "cell_type": "markdown",
   "id": "841af662-e068-4aa4-85f5-ecaa99da85fd",
   "metadata": {},
   "source": [
    "### x만큼 간격이 있는 n개의 숫자 (12954)\n",
    "문제 : 함수 solution은 정수 x와 자연수 n을 입력 받아, x부터 시작해 x씩 증가하는 숫자를 n개 지니는 리스트를 리턴해야 합니다. 다음 제한 조건을 보고, 조건을 만족하는 함수, solution을 완성해주세요."
   ]
  },
  {
   "cell_type": "code",
   "execution_count": 69,
   "id": "19cdff03-bb12-4ea2-af27-1cc5fa967c8c",
   "metadata": {},
   "outputs": [
    {
     "data": {
      "text/plain": [
       "[0, 0, 0, 0, 0]"
      ]
     },
     "execution_count": 69,
     "metadata": {},
     "output_type": "execute_result"
    }
   ],
   "source": [
    "def solution(x, n):\n",
    "    result = []\n",
    "    if x != 0:\n",
    "        for i in range(x, x*(n+1), x):\n",
    "            result.append(i)\n",
    "    else:\n",
    "        return [0]*n\n",
    "    return result\n",
    "\n",
    "solution(0, 5)"
   ]
  },
  {
   "cell_type": "code",
   "execution_count": 68,
   "id": "d6383c75-5422-4e23-8e4c-58609c91d1c9",
   "metadata": {},
   "outputs": [
    {
     "data": {
      "text/plain": [
       "[-4, -8]"
      ]
     },
     "execution_count": 68,
     "metadata": {},
     "output_type": "execute_result"
    }
   ],
   "source": [
    "def solution(x, n):\n",
    "    return [i for i in range(x, x*(n+1), x)] if x != 0 else [0]*n\n",
    "\n",
    "solution(-4, 2)"
   ]
  },
  {
   "cell_type": "code",
   "execution_count": null,
   "id": "61ca3aed-abcd-4621-891b-30592cdd6969",
   "metadata": {},
   "outputs": [],
   "source": []
  },
  {
   "cell_type": "markdown",
   "id": "99c0d761-37c2-4605-a808-b9361ed989b5",
   "metadata": {},
   "source": [
    "### 정수 제곱근 판별 (12934)\n",
    "문제 : 임의의 양의 정수 n에 대해, n이 어떤 양의 정수 x의 제곱인지 아닌지 판단하려 합니다.\n",
    "n이 양의 정수 x의 제곱이라면 x+1의 제곱을 리턴하고, n이 양의 정수 x의 제곱이 아니라면 -1을 리턴하는 함수를 완성하세요."
   ]
  },
  {
   "cell_type": "code",
   "execution_count": 88,
   "id": "5d9e47ab-e9b2-4f33-8129-a9c0d6351acb",
   "metadata": {},
   "outputs": [
    {
     "data": {
      "text/plain": [
       "144"
      ]
     },
     "execution_count": 88,
     "metadata": {},
     "output_type": "execute_result"
    }
   ],
   "source": [
    "def solution(n):\n",
    "    result = []\n",
    "    for i in range(1, n+1):\n",
    "        if n%i == 0:\n",
    "            if i*i == n:\n",
    "                return (i+1)**2\n",
    "    else:\n",
    "        return -1\n",
    "        \n",
    "solution(121)"
   ]
  },
  {
   "cell_type": "code",
   "execution_count": 87,
   "id": "b8b8a88d-ac06-4681-9dbb-de82896c9fdc",
   "metadata": {},
   "outputs": [
    {
     "data": {
      "text/plain": [
       "144"
      ]
     },
     "execution_count": 87,
     "metadata": {},
     "output_type": "execute_result"
    }
   ],
   "source": [
    "def solution(n):\n",
    "    division = [i for i in range(1, n+1) if n%i == 0]\n",
    "    for j in division:\n",
    "        if j*j == n:\n",
    "            return (j+1)**2\n",
    "    else:\n",
    "        return -1\n",
    "\n",
    "solution(121)"
   ]
  },
  {
   "cell_type": "code",
   "execution_count": null,
   "id": "cce5d023-a19e-40c0-8ce8-c1c09d73bd98",
   "metadata": {},
   "outputs": [],
   "source": []
  }
 ],
 "metadata": {
  "kernelspec": {
   "display_name": "Python 3 (ipykernel)",
   "language": "python",
   "name": "python3"
  },
  "language_info": {
   "codemirror_mode": {
    "name": "ipython",
    "version": 3
   },
   "file_extension": ".py",
   "mimetype": "text/x-python",
   "name": "python",
   "nbconvert_exporter": "python",
   "pygments_lexer": "ipython3",
   "version": "3.10.7"
  }
 },
 "nbformat": 4,
 "nbformat_minor": 5
}
