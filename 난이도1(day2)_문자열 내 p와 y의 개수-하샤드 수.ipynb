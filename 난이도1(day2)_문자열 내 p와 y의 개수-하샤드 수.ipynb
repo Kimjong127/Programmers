{
 "cells": [
  {
   "cell_type": "markdown",
   "id": "8d834360-245f-4df3-8916-587e1cd0daa5",
   "metadata": {},
   "source": [
    "### 문자열 내 p와 y의 개수 (12916)\n",
    "문제 : 대문자와 소문자가 섞여있는 문자열 s가 주어집니다. s에 'p'의 개수와 'y'의 개수를 비교해 같으면 True, 다르면 False를 return 하는 solution를 완성하세요. 'p', 'y' 모두 하나도 없는 경우는 항상 True를 리턴합니다. 단, 개수를 비교할 때 대문자와 소문자는 구별하지 않습니다.\n",
    "\n",
    "예를 들어 s가 \"pPoooyY\"면 true를 return하고 \"Pyy\"라면 false를 return합니다."
   ]
  },
  {
   "cell_type": "code",
   "execution_count": 3,
   "id": "3f069282-4897-4872-a221-36f415e98d94",
   "metadata": {},
   "outputs": [
    {
     "data": {
      "text/plain": [
       "False"
      ]
     },
     "execution_count": 3,
     "metadata": {},
     "output_type": "execute_result"
    }
   ],
   "source": [
    "def solution(s):\n",
    "    p_c = 0\n",
    "    y_c = 0\n",
    "    for i in s:\n",
    "        if i == 'p':\n",
    "            p_c += 1\n",
    "        elif i == 'y':\n",
    "            y_c += 1\n",
    "    if p_c == y_c:\n",
    "        return True\n",
    "    else:\n",
    "        return False\n",
    "    \n",
    "solution(\"Pyy\")"
   ]
  },
  {
   "cell_type": "code",
   "execution_count": 14,
   "id": "81622e86-2c35-454c-9d96-2a15e443ef51",
   "metadata": {},
   "outputs": [
    {
     "data": {
      "text/plain": [
       "True"
      ]
     },
     "execution_count": 14,
     "metadata": {},
     "output_type": "execute_result"
    }
   ],
   "source": [
    "def solution(s):\n",
    "    s = s.lower()\n",
    "    if s.count('p') == s.count('y'):\n",
    "        return True\n",
    "    elif s.count('p') == 0 and s.count('y') == 0:\n",
    "        return True\n",
    "    else:\n",
    "        return False\n",
    "solution(\"pPoooyY\")"
   ]
  },
  {
   "cell_type": "code",
   "execution_count": 12,
   "id": "1c380056-5d60-4227-9853-9881bca01c38",
   "metadata": {},
   "outputs": [
    {
     "data": {
      "text/plain": [
       "'ppoooyy'"
      ]
     },
     "execution_count": 12,
     "metadata": {},
     "output_type": "execute_result"
    }
   ],
   "source": [
    "s = \"pPoooyY\"\n",
    "s.lower()"
   ]
  },
  {
   "cell_type": "code",
   "execution_count": null,
   "id": "d738833c-fdf8-4041-8484-87438ee26487",
   "metadata": {},
   "outputs": [],
   "source": []
  },
  {
   "cell_type": "markdown",
   "id": "46c7c6f9-aeb0-4e63-8615-5772270dbc3a",
   "metadata": {},
   "source": [
    "### 정수 내림차순으로 배치하기 (12933)\n",
    "문제 : 함수 solution은 정수 n을 매개변수로 입력받습니다. n의 각 자릿수를 큰것부터 작은 순으로 정렬한 새로운 정수를 리턴해주세요. 예를들어 n이 118372면 873211을 리턴하면 됩니다."
   ]
  },
  {
   "cell_type": "code",
   "execution_count": 6,
   "id": "7412de68-4c48-4b85-8243-7dfd9b891bc4",
   "metadata": {},
   "outputs": [
    {
     "data": {
      "text/plain": [
       "873211"
      ]
     },
     "execution_count": 6,
     "metadata": {},
     "output_type": "execute_result"
    }
   ],
   "source": [
    "def solution(n):\n",
    "    return int(''.join(sorted([s for s in str(n)], reverse = True)))\n",
    "solution(118372)"
   ]
  },
  {
   "cell_type": "code",
   "execution_count": null,
   "id": "5b5a0260-073b-4728-a363-dcd69909e2c6",
   "metadata": {},
   "outputs": [],
   "source": []
  },
  {
   "cell_type": "markdown",
   "id": "d882273b-783c-4112-af16-4a172a1ae094",
   "metadata": {},
   "source": [
    "### 문자열을 정수로 바꾸기 (12925)\n",
    "문제 : 문자열 s를 숫자로 변환한 결과를 반환하는 함수, solution을 완성하세요."
   ]
  },
  {
   "cell_type": "code",
   "execution_count": 8,
   "id": "df32a37a-3921-4337-9a1e-3b211f5a91c1",
   "metadata": {},
   "outputs": [
    {
     "data": {
      "text/plain": [
       "1234"
      ]
     },
     "execution_count": 8,
     "metadata": {},
     "output_type": "execute_result"
    }
   ],
   "source": [
    "def solution(s):\n",
    "    return int(s)\n",
    "\n",
    "solution(1234)"
   ]
  },
  {
   "cell_type": "code",
   "execution_count": null,
   "id": "7d2e1834-3ad3-4d32-b030-7cb282d6ee67",
   "metadata": {},
   "outputs": [],
   "source": []
  },
  {
   "cell_type": "markdown",
   "id": "7adf9167-89d1-42c3-a1a2-c64d36b3b501",
   "metadata": {},
   "source": [
    "### 나머지가 1이 되는 수 찾기 (87389)\n",
    "문제 : 자연수 n이 매개변수로 주어집니다. n을 x로 나눈 나머지가 1이 되도록 하는 가장 작은 자연수 x를 return 하도록 solution 함수를 완성해주세요. 답이 항상 존재함은 증명될 수 있습니다."
   ]
  },
  {
   "cell_type": "code",
   "execution_count": 10,
   "id": "3cb3df8a-2f5f-423f-b032-59dedb9aae13",
   "metadata": {},
   "outputs": [
    {
     "data": {
      "text/plain": [
       "3"
      ]
     },
     "execution_count": 10,
     "metadata": {},
     "output_type": "execute_result"
    }
   ],
   "source": [
    "def solution(n):\n",
    "    for i in range(1, n+1):\n",
    "        if n%i == 1:\n",
    "            return i\n",
    "        \n",
    "solution(10)"
   ]
  },
  {
   "cell_type": "code",
   "execution_count": null,
   "id": "0b14fb86-122b-471c-a971-2401f2809c9e",
   "metadata": {},
   "outputs": [],
   "source": []
  },
  {
   "cell_type": "markdown",
   "id": "f45be713-e99d-4df0-ac7b-29c4a5501820",
   "metadata": {},
   "source": [
    "### 하샤드 수 (12947)\n",
    "문제 : 양의 정수 x가 하샤드 수이려면 x의 자릿수의 합으로 x가 나누어져야 합니다. 예를 들어 18의 자릿수 합은 1+8=9이고, 18은 9로 나누어 떨어지므로 18은 하샤드 수입니다. 자연수 x를 입력받아 x가 하샤드 수인지 아닌지 검사하는 함수, solution을 완성해주세요."
   ]
  },
  {
   "cell_type": "code",
   "execution_count": 1,
   "id": "884a5b05-3e6d-4145-93db-f257f77fb918",
   "metadata": {},
   "outputs": [
    {
     "data": {
      "text/plain": [
       "True"
      ]
     },
     "execution_count": 1,
     "metadata": {},
     "output_type": "execute_result"
    }
   ],
   "source": [
    "def solution(x):\n",
    "    sum_x = sum([int(s) for s in str(x)])\n",
    "    if x%sum_x == 0:\n",
    "        return True\n",
    "    else:\n",
    "        return False\n",
    "    \n",
    "solution(10)"
   ]
  },
  {
   "cell_type": "code",
   "execution_count": null,
   "id": "5f67fc22-0b44-4446-a1cf-379c6ee2bf28",
   "metadata": {},
   "outputs": [],
   "source": []
  }
 ],
 "metadata": {
  "kernelspec": {
   "display_name": "Python 3 (ipykernel)",
   "language": "python",
   "name": "python3"
  },
  "language_info": {
   "codemirror_mode": {
    "name": "ipython",
    "version": 3
   },
   "file_extension": ".py",
   "mimetype": "text/x-python",
   "name": "python",
   "nbconvert_exporter": "python",
   "pygments_lexer": "ipython3",
   "version": "3.10.7"
  }
 },
 "nbformat": 4,
 "nbformat_minor": 5
}
