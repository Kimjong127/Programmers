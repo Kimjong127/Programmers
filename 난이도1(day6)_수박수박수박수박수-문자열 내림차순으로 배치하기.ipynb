{
 "cells": [
  {
   "cell_type": "markdown",
   "id": "ce6652d5-80e9-4f03-b2f8-ae31152a04d3",
   "metadata": {},
   "source": [
    "### 수박수박수박수박수박수? (12922)\n",
    "문제 : 길이가 n이고, \"수박수박수박수....\"와 같은 패턴을 유지하는 문자열을 리턴하는 함수, solution을 완성하세요. 예를들어 n이 4이면 \"수박수박\"을 리턴하고 3이라면 \"수박수\"를 리턴하면 됩니다."
   ]
  },
  {
   "cell_type": "code",
   "execution_count": 2,
   "id": "a3ed2a4a-1c77-4db8-9a19-35d9e3c04abf",
   "metadata": {},
   "outputs": [
    {
     "data": {
      "text/plain": [
       "'수박수'"
      ]
     },
     "execution_count": 2,
     "metadata": {},
     "output_type": "execute_result"
    }
   ],
   "source": [
    "def solution(n):\n",
    "    wm = '수박'                 # '수박'을 wm변수에 대입\n",
    "    if n%2 != 0:                # 매개변수 n의 길이가 홀수라면\n",
    "        return wm*(n//2) + '수'  # wm에 n을 2로 나눈 몫을 곱하고 마지막 '수'를 더해준다.\n",
    "    else:\n",
    "        return wm*(n//2)         # 짝수일 경우엔 '수박'에 n//2를 곱해줌\n",
    "    \n",
    "solution(3)"
   ]
  },
  {
   "cell_type": "markdown",
   "id": "7339e8ce-38a4-452d-b6c8-99f55af1f8d2",
   "metadata": {},
   "source": [
    "### 내적 (70128)\n",
    "문제 : 길이가 같은 두 1차원 정수 배열 a, b가 매개변수로 주어집니다. a와 b의 내적을 return 하도록 solution 함수를 완성해주세요.\n",
    "\n",
    "이때, a와 b의 내적은 a[0]*b[0] + a[1]*b[1] + ... + a[n-1]*b[n-1] 입니다. (n은 a, b의 길이)"
   ]
  },
  {
   "cell_type": "code",
   "execution_count": 3,
   "id": "0d2c8fb8-6d9d-4596-99c9-0da9a217a8cd",
   "metadata": {},
   "outputs": [
    {
     "data": {
      "text/plain": [
       "3"
      ]
     },
     "execution_count": 3,
     "metadata": {},
     "output_type": "execute_result"
    }
   ],
   "source": [
    "def solution(a, b):\n",
    "    return sum([a[i]*b[i] for i in range(len(a))])\n",
    "\n",
    "solution([1,2,3,4], [-3,-1,0,2])"
   ]
  },
  {
   "cell_type": "markdown",
   "id": "eef388b5-9a92-4b8b-bb48-512f5ffd3cf5",
   "metadata": {},
   "source": [
    "### 문자열 내림차순으로 배치하기 (12917)\n",
    "문제 : 문자열 s에 나타나는 문자를 큰것부터 작은 순으로 정렬해 새로운 문자열을 리턴하는 함수, solution을 완성해주세요.\n",
    "s는 영문 대소문자로만 구성되어 있으며, 대문자는 소문자보다 작은 것으로 간주합니다."
   ]
  },
  {
   "cell_type": "code",
   "execution_count": 4,
   "id": "785c020a-98c1-4b84-9f99-22485865bae5",
   "metadata": {},
   "outputs": [
    {
     "data": {
      "text/plain": [
       "'gfedcbZ'"
      ]
     },
     "execution_count": 4,
     "metadata": {},
     "output_type": "execute_result"
    }
   ],
   "source": [
    "def solution(s):\n",
    "    u = ''\n",
    "    l = ''\n",
    "    for i in sorted(s, reverse=True):\n",
    "        if s.isupper():\n",
    "            u += i\n",
    "        else:\n",
    "            l += i\n",
    "    return l + u\n",
    "\n",
    "solution(\"Zbcdefg\")"
   ]
  },
  {
   "cell_type": "code",
   "execution_count": 8,
   "id": "e877f482-8f7b-4c05-bf31-75d9ed34558d",
   "metadata": {},
   "outputs": [
    {
     "data": {
      "text/plain": [
       "'gfedcbZ'"
      ]
     },
     "execution_count": 8,
     "metadata": {},
     "output_type": "execute_result"
    }
   ],
   "source": [
    "def solution(s):\n",
    "    return ''.join(sorted(s, reverse=True))\n",
    "\n",
    "solution(\"Zbcdefg\")"
   ]
  }
 ],
 "metadata": {
  "kernelspec": {
   "display_name": "Python 3 (ipykernel)",
   "language": "python",
   "name": "python3"
  },
  "language_info": {
   "codemirror_mode": {
    "name": "ipython",
    "version": 3
   },
   "file_extension": ".py",
   "mimetype": "text/x-python",
   "name": "python",
   "nbconvert_exporter": "python",
   "pygments_lexer": "ipython3",
   "version": "3.10.7"
  }
 },
 "nbformat": 4,
 "nbformat_minor": 5
}
