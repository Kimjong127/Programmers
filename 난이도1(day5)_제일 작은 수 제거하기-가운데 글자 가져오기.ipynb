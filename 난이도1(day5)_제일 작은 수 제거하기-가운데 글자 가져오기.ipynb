{
 "cells": [
  {
   "cell_type": "markdown",
   "id": "6aa22373-4993-48b7-808b-deb61062010b",
   "metadata": {},
   "source": [
    "### 제일 작은 수 제거하기 (12935)\n",
    "문제 : 정수를 저장한 배열, arr 에서 가장 작은 수를 제거한 배열을 리턴하는 함수, solution을 완성해주세요. 단, 리턴하려는 배열이 빈 배열인 경우엔 배열에 -1을 채워 리턴하세요. 예를들어 arr이 [4,3,2,1]인 경우는 [4,3,2]를 리턴 하고, [10]면 [-1]을 리턴 합니다."
   ]
  },
  {
   "cell_type": "code",
   "execution_count": 55,
   "id": "f961f779-69e9-48da-8d5d-61ad22f8196a",
   "metadata": {},
   "outputs": [
    {
     "data": {
      "text/plain": [
       "[4, 3, 2]"
      ]
     },
     "execution_count": 55,
     "metadata": {},
     "output_type": "execute_result"
    }
   ],
   "source": [
    "def solution(arr):\n",
    "    if len(arr) == 1:         # len(arr) == 1일 경우, 빈 배열이 되기 때문에 [-1]을 리턴\n",
    "        return [-1]\n",
    "    else:\n",
    "        arr.remove(min(arr))  # 그밖의 경우 리스트의 가장 작은 값을 제거하고 return한다.\n",
    "        return arr\n",
    "    \n",
    "solution([4, 3, 2, 1])"
   ]
  },
  {
   "cell_type": "code",
   "execution_count": 54,
   "id": "648af470-c474-4a32-bc3d-52a6f762f09e",
   "metadata": {},
   "outputs": [
    {
     "data": {
      "text/plain": [
       "[4, 3, 2]"
      ]
     },
     "execution_count": 54,
     "metadata": {},
     "output_type": "execute_result"
    }
   ],
   "source": [
    "def solution(arr):\n",
    "    return [-1] if len(arr) == 1 else [i for i in arr if i != min(arr)]\n",
    "\n",
    "solution([4, 3, 2, 1])"
   ]
  },
  {
   "cell_type": "code",
   "execution_count": 46,
   "id": "74649681-c25b-4927-a775-807345aadd8d",
   "metadata": {},
   "outputs": [
    {
     "data": {
      "text/plain": [
       "[4, 3, 2]"
      ]
     },
     "execution_count": 46,
     "metadata": {},
     "output_type": "execute_result"
    }
   ],
   "source": [
    "a[:-1]"
   ]
  },
  {
   "cell_type": "code",
   "execution_count": null,
   "id": "083f62e7-d75d-4018-b89f-e537b0f25e9a",
   "metadata": {},
   "outputs": [],
   "source": []
  },
  {
   "cell_type": "markdown",
   "id": "73709b35-14ba-49df-b527-6c94398aa839",
   "metadata": {},
   "source": [
    "### 없는 숫자 더하기 (86501)\n",
    "문제 : 0부터 9까지의 숫자 중 일부가 들어있는 정수 배열 numbers가 매개변수로 주어집니다. numbers에서 찾을 수 없는 0부터 9까지의 숫자를 모두 찾아 더한 수를 return 하도록 solution 함수를 완성해주세요."
   ]
  },
  {
   "cell_type": "code",
   "execution_count": 75,
   "id": "54f37cd7-a4c2-4d4f-bc7c-fdc0757c7e2d",
   "metadata": {},
   "outputs": [
    {
     "data": {
      "text/plain": [
       "14"
      ]
     },
     "execution_count": 75,
     "metadata": {},
     "output_type": "execute_result"
    }
   ],
   "source": [
    "def solution(numbers):\n",
    "    num_li = set(range(0, 10))          # 0~9까지 집합 형태의 자료 생성\n",
    "    numbers = set(numbers)              # numbers 또한 집합형태로 바꿈\n",
    "    result = num_li - numbers           # 차집합을 구하여 result변수에 대입\n",
    "    return sum(list(result))            # result를 list로 형변환하여 합산한 값을 return\n",
    "\n",
    "solution([1,2,3,4,6,7,8,0])"
   ]
  },
  {
   "cell_type": "code",
   "execution_count": 60,
   "id": "2ccfdaa6-77a6-4fae-b96b-7c1c0bf48cfb",
   "metadata": {},
   "outputs": [
    {
     "data": {
      "text/plain": [
       "45"
      ]
     },
     "execution_count": 60,
     "metadata": {},
     "output_type": "execute_result"
    }
   ],
   "source": [
    "sum(range(0, 10))"
   ]
  },
  {
   "cell_type": "code",
   "execution_count": 63,
   "id": "328f7c20-1e83-482d-9ed6-4523fe70a7bc",
   "metadata": {},
   "outputs": [
    {
     "data": {
      "text/plain": [
       "45"
      ]
     },
     "execution_count": 63,
     "metadata": {},
     "output_type": "execute_result"
    }
   ],
   "source": [
    "sum([0, 1, 2, 3, 4, 5, 6, 7, 8, 9])"
   ]
  },
  {
   "cell_type": "code",
   "execution_count": 65,
   "id": "7431d9f9-4e94-4c1d-b94c-50d3ea61ac95",
   "metadata": {},
   "outputs": [
    {
     "data": {
      "text/plain": [
       "[0, 1, 2, 3, 4, 5, 6, 7, 8, 9]"
      ]
     },
     "execution_count": 65,
     "metadata": {},
     "output_type": "execute_result"
    }
   ],
   "source": [
    "num_li = list(range(0, 10))\n",
    "num_li"
   ]
  },
  {
   "cell_type": "code",
   "execution_count": 68,
   "id": "a6cfdff4-e2ad-4245-8a29-fa36f8e61cc8",
   "metadata": {},
   "outputs": [
    {
     "data": {
      "text/plain": [
       "[0, 1, 2, 3, 4, 6, 7, 8]"
      ]
     },
     "execution_count": 68,
     "metadata": {},
     "output_type": "execute_result"
    }
   ],
   "source": [
    "numbers = [1,2,3,4,6,7,8,0]\n",
    "\n",
    "sorted(numbers)"
   ]
  },
  {
   "cell_type": "code",
   "execution_count": 74,
   "id": "9c09912b-506f-449f-aca8-4fb2ef5176e5",
   "metadata": {},
   "outputs": [
    {
     "ename": "TypeError",
     "evalue": "unsupported operand type(s) for |: 'list' and 'list'",
     "output_type": "error",
     "traceback": [
      "\u001b[1;31m---------------------------------------------------------------------------\u001b[0m",
      "\u001b[1;31mTypeError\u001b[0m                                 Traceback (most recent call last)",
      "Cell \u001b[1;32mIn [74], line 1\u001b[0m\n\u001b[1;32m----> 1\u001b[0m [\u001b[43mnum_li\u001b[49m\u001b[38;5;241;43m|\u001b[39;49m\u001b[43mnumbers\u001b[49m]\n",
      "\u001b[1;31mTypeError\u001b[0m: unsupported operand type(s) for |: 'list' and 'list'"
     ]
    }
   ],
   "source": [
    "num_li|numbers"
   ]
  },
  {
   "cell_type": "code",
   "execution_count": null,
   "id": "6c1d7128-1e9d-41ea-bc7b-b95f9acd139b",
   "metadata": {},
   "outputs": [],
   "source": []
  },
  {
   "cell_type": "markdown",
   "id": "0a1e0ea0-c43a-488a-8ee2-641e6841e4ca",
   "metadata": {},
   "source": [
    "### 가운데 글자 가져오기\n",
    "문제 : 단어 s의 가운데 글자를 반환하는 함수, solution을 만들어 보세요. 단어의 길이가 짝수라면 가운데 두글자를 반환하면 됩니다."
   ]
  },
  {
   "cell_type": "code",
   "execution_count": 84,
   "id": "1febe45b-75c7-4efd-b514-a5e5efc7d7db",
   "metadata": {},
   "outputs": [
    {
     "name": "stdout",
     "output_type": "stream",
     "text": [
      "2\n"
     ]
    },
    {
     "data": {
      "text/plain": [
       "'c'"
      ]
     },
     "execution_count": 84,
     "metadata": {},
     "output_type": "execute_result"
    }
   ],
   "source": [
    "def solution(s):\n",
    "    idx = len(s)//2                # s의 길이를 2로 나눈 몫을 idx에 대입\n",
    "    if len(s)%2 == 0:              # s의 길이가 짝수일 경우\n",
    "        return s[idx-1] + s[idx]   # 앞글자인 s[idx-1]과 s[idx]를 더해 return\n",
    "    else:\n",
    "        return s[idx]\n",
    "\n",
    "solution(\"abcde\")"
   ]
  },
  {
   "cell_type": "code",
   "execution_count": 85,
   "id": "7ed4e43d-a4be-4b88-9f20-11f366ca5207",
   "metadata": {},
   "outputs": [
    {
     "data": {
      "text/plain": [
       "'c'"
      ]
     },
     "execution_count": 85,
     "metadata": {},
     "output_type": "execute_result"
    }
   ],
   "source": [
    "def solution(s):\n",
    "    idx = len(s)//2\n",
    "    return s[idx-1] + s[idx] if len(s)%2 == 0 else s[idx]\n",
    "\n",
    "solution(\"abcde\")"
   ]
  }
 ],
 "metadata": {
  "kernelspec": {
   "display_name": "Python 3 (ipykernel)",
   "language": "python",
   "name": "python3"
  },
  "language_info": {
   "codemirror_mode": {
    "name": "ipython",
    "version": 3
   },
   "file_extension": ".py",
   "mimetype": "text/x-python",
   "name": "python",
   "nbconvert_exporter": "python",
   "pygments_lexer": "ipython3",
   "version": "3.10.7"
  }
 },
 "nbformat": 4,
 "nbformat_minor": 5
}
