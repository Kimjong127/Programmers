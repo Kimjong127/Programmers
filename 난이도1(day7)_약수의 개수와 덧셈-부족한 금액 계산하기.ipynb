{
 "cells": [
  {
   "cell_type": "markdown",
   "id": "ba18b6c7-2b4f-4044-9ff4-e79072c42b3b",
   "metadata": {},
   "source": [
    "### 약수의 개수와 덧셈 (77884)\n",
    "문제 : 두 정수 left와 right가 매개변수로 주어집니다. left부터 right까지의 모든 수들 중에서, 약수의 개수가 짝수인 수는 더하고, 약수의 개수가 홀수인 수는 뺀 수를 return 하도록 solution 함수를 완성해주세요."
   ]
  },
  {
   "cell_type": "code",
   "execution_count": 1,
   "id": "0ab4a694-7e5c-4f5b-9af3-cc64338d78b1",
   "metadata": {},
   "outputs": [
    {
     "data": {
      "text/plain": [
       "43"
      ]
     },
     "execution_count": 1,
     "metadata": {},
     "output_type": "execute_result"
    }
   ],
   "source": [
    "def count_divisors(n):                 # 약수를 구하는 함수 생성\n",
    "    count = 0\n",
    "    for i in range(1, n + 1):\n",
    "        if n % i == 0:\n",
    "            count += 1\n",
    "    return count\n",
    "\n",
    "def solution(left, right):\n",
    "    sums = 0\n",
    "    for j in range(left, right+1):      # left 부터 right+1까지 for반복문을 통해\n",
    "        if count_divisors(j)%2 == 0:    # j의 약수의 갯수가 짝수라면\n",
    "            sums += j                   # sums에 j를 더해주고\n",
    "        else:\n",
    "            sums -= j                   # j가 홀수라면 빼준다.\n",
    "    return sums\n",
    "\n",
    "solution(13, 17)"
   ]
  },
  {
   "cell_type": "markdown",
   "id": "811d8d4f-346c-4e8a-a6d8-94945d83c2e0",
   "metadata": {},
   "source": [
    "### 문자열 다루기 기본 (12918)\n",
    "문제 : 문자열 s의 길이가 4 혹은 6이고, 숫자로만 구성돼있는지 확인해주는 함수, solution을 완성하세요. 예를 들어 s가 \"a234\"이면 False를 리턴하고 \"1234\"라면 True를 리턴하면 됩니다."
   ]
  },
  {
   "cell_type": "code",
   "execution_count": 10,
   "id": "0f3d0131-c171-426f-a165-26b0bbb75641",
   "metadata": {},
   "outputs": [
    {
     "data": {
      "text/plain": [
       "False"
      ]
     },
     "execution_count": 10,
     "metadata": {},
     "output_type": "execute_result"
    }
   ],
   "source": [
    "def solution(s):\n",
    "    return s.isdigit() and len(s) in [4, 6]\n",
    "\n",
    "solution('a123')"
   ]
  },
  {
   "cell_type": "code",
   "execution_count": 3,
   "id": "ce11fbb3-21bd-4514-b9dc-33ee651f86b7",
   "metadata": {},
   "outputs": [
    {
     "data": {
      "text/plain": [
       "False"
      ]
     },
     "execution_count": 3,
     "metadata": {},
     "output_type": "execute_result"
    }
   ],
   "source": [
    "s = 'a123'\n",
    "\n",
    "s.isdigit()"
   ]
  },
  {
   "cell_type": "markdown",
   "id": "b36a1711-decf-4a17-b61c-0908444ad8b4",
   "metadata": {},
   "source": [
    "### 부족한 금액 계산하기 (82612)\n",
    "문제 : 새로 생긴 놀이기구는 인기가 매우 많아 줄이 끊이질 않습니다. 이 놀이기구의 원래 이용료는 price원 인데, 놀이기구를 N 번 째 이용한다면 원래 이용료의 N배를 받기로 하였습니다. 즉, 처음 이용료가 100이었다면 2번째에는 200, 3번째에는 300으로 요금이 인상됩니다.\n",
    "놀이기구를 count번 타게 되면 현재 자신이 가지고 있는 금액에서 얼마가 모자라는지를 return 하도록 solution 함수를 완성하세요.\n",
    "단, 금액이 부족하지 않으면 0을 return 하세요."
   ]
  },
  {
   "cell_type": "code",
   "execution_count": 5,
   "id": "90620d48-0d0e-4656-9b40-4a473b9ea66d",
   "metadata": {},
   "outputs": [
    {
     "data": {
      "text/plain": [
       "10"
      ]
     },
     "execution_count": 5,
     "metadata": {},
     "output_type": "execute_result"
    }
   ],
   "source": [
    "def solution(price, money, count):\n",
    "    if money - sum([i for i in range(price, price*count+1, price)]) >= 0:    # price부터 price + 1까지의 범위에서 price만큼의 step으로 for문을 돌려 합하여준 값을 money에서 빼준 값이 0보다 크거나 같을 경우 부족한 금액이 없는 경우 이므로\n",
    "        return 0                                                             # 0을 return\n",
    "    else:         \n",
    "        return abs(money - sum([i for i in range(price, price*count+1, price)]))\n",
    "    \n",
    "solution(3, 20, 4)"
   ]
  }
 ],
 "metadata": {
  "kernelspec": {
   "display_name": "Python 3 (ipykernel)",
   "language": "python",
   "name": "python3"
  },
  "language_info": {
   "codemirror_mode": {
    "name": "ipython",
    "version": 3
   },
   "file_extension": ".py",
   "mimetype": "text/x-python",
   "name": "python",
   "nbconvert_exporter": "python",
   "pygments_lexer": "ipython3",
   "version": "3.10.7"
  }
 },
 "nbformat": 4,
 "nbformat_minor": 5
}
