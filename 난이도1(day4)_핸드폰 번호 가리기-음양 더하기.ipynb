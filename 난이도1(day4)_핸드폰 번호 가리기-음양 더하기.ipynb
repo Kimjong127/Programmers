{
 "cells": [
  {
   "cell_type": "markdown",
   "id": "e1e44903-9b6c-459d-8d47-12689d3904b3",
   "metadata": {},
   "source": [
    "### 핸드폰 번호 가리기 (12948)\n",
    "문제 : 프로그래머스 모바일은 개인정보 보호를 위해 고지서를 보낼 때 고객들의 전화번호의 일부를 가립니다.\n",
    "전화번호가 문자열 phone_number로 주어졌을 때, 전화번호의 뒷 4자리를 제외한 나머지 숫자를 전부 *으로 가린 문자열을 리턴하는 함수, solution을 완성해주세요."
   ]
  },
  {
   "cell_type": "code",
   "execution_count": 10,
   "id": "1d63e4f4-e521-4280-a641-5c4f506d1cd4",
   "metadata": {},
   "outputs": [
    {
     "data": {
      "text/plain": [
       "'*******4444'"
      ]
     },
     "execution_count": 10,
     "metadata": {},
     "output_type": "execute_result"
    }
   ],
   "source": [
    "def solution(phone_number):\n",
    "    star = len(phone_number) - 4\n",
    "    result = '*' * star + phone_number[-4:]\n",
    "    return result\n",
    "\n",
    "solution(\"01033334444\")"
   ]
  },
  {
   "cell_type": "code",
   "execution_count": null,
   "id": "f226ed48-683d-4fc1-b6b2-3ae6364d5da9",
   "metadata": {},
   "outputs": [],
   "source": []
  },
  {
   "cell_type": "markdown",
   "id": "b0b5e22f-f95a-411a-866a-eae310198e6f",
   "metadata": {},
   "source": [
    "### 음양 더하기 (76501)\n",
    "문제 : 어떤 정수들이 있습니다. 이 정수들의 절댓값을 차례대로 담은 정수 배열 absolutes와 이 정수들의 부호를 차례대로 담은 불리언 배열 signs가 매개변수로 주어집니다. 실제 정수들의 합을 구하여 return 하도록 solution 함수를 완성해주세요."
   ]
  },
  {
   "cell_type": "code",
   "execution_count": 16,
   "id": "f367c03f-bfbf-400b-b7f6-0e9ab1d91883",
   "metadata": {},
   "outputs": [
    {
     "data": {
      "text/plain": [
       "9"
      ]
     },
     "execution_count": 16,
     "metadata": {},
     "output_type": "execute_result"
    }
   ],
   "source": [
    "def solution(absolutes, signs):\n",
    "    ab_sum = 0\n",
    "    for i in range(len(absolutes)):\n",
    "        if signs[i] == False:\n",
    "            ab_sum += -absolutes[i]\n",
    "        else:\n",
    "            ab_sum += absolutes[i]\n",
    "    return ab_sum\n",
    "\n",
    "solution([4,7,12], [True,False,True])"
   ]
  },
  {
   "cell_type": "code",
   "execution_count": 19,
   "id": "8ae98b24-3374-447e-98e6-1d2606c14e15",
   "metadata": {},
   "outputs": [
    {
     "data": {
      "text/plain": [
       "9"
      ]
     },
     "execution_count": 19,
     "metadata": {},
     "output_type": "execute_result"
    }
   ],
   "source": [
    "def solution(absolutes, signs):\n",
    "    return sum([-absolutes[i] if not signs[i] else absolutes[i] for i in range(len(absolutes))])\n",
    "solution([4,7,12], [True,False,True])"
   ]
  }
 ],
 "metadata": {
  "kernelspec": {
   "display_name": "Python 3 (ipykernel)",
   "language": "python",
   "name": "python3"
  },
  "language_info": {
   "codemirror_mode": {
    "name": "ipython",
    "version": 3
   },
   "file_extension": ".py",
   "mimetype": "text/x-python",
   "name": "python",
   "nbconvert_exporter": "python",
   "pygments_lexer": "ipython3",
   "version": "3.10.7"
  }
 },
 "nbformat": 4,
 "nbformat_minor": 5
}
